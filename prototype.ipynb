{
 "cells": [
  {
   "cell_type": "code",
   "execution_count": 1,
   "metadata": {},
   "outputs": [
    {
     "name": "stdout",
     "output_type": "stream",
     "text": [
      "Requirement already satisfied: langchain in /opt/anaconda3/envs/ai-playground/lib/python3.11/site-packages (0.3.0)\n",
      "Requirement already satisfied: langchain-community in /opt/anaconda3/envs/ai-playground/lib/python3.11/site-packages (0.3.0)\n",
      "Requirement already satisfied: langchain-openai in /opt/anaconda3/envs/ai-playground/lib/python3.11/site-packages (0.2.0)\n",
      "Requirement already satisfied: langchain-core in /opt/anaconda3/envs/ai-playground/lib/python3.11/site-packages (0.3.0)\n",
      "Requirement already satisfied: langchain-huggingface in /opt/anaconda3/envs/ai-playground/lib/python3.11/site-packages (0.1.0)\n",
      "Requirement already satisfied: PyYAML>=5.3 in /opt/anaconda3/envs/ai-playground/lib/python3.11/site-packages (from langchain) (6.0.1)\n",
      "Requirement already satisfied: SQLAlchemy<3,>=1.4 in /opt/anaconda3/envs/ai-playground/lib/python3.11/site-packages (from langchain) (2.0.32)\n",
      "Requirement already satisfied: aiohttp<4.0.0,>=3.8.3 in /opt/anaconda3/envs/ai-playground/lib/python3.11/site-packages (from langchain) (3.10.1)\n",
      "Requirement already satisfied: langchain-text-splitters<0.4.0,>=0.3.0 in /opt/anaconda3/envs/ai-playground/lib/python3.11/site-packages (from langchain) (0.3.0)\n",
      "Requirement already satisfied: langsmith<0.2.0,>=0.1.17 in /opt/anaconda3/envs/ai-playground/lib/python3.11/site-packages (from langchain) (0.1.125)\n",
      "Requirement already satisfied: numpy<2,>=1 in /opt/anaconda3/envs/ai-playground/lib/python3.11/site-packages (from langchain) (1.26.4)\n",
      "Requirement already satisfied: pydantic<3.0.0,>=2.7.4 in /opt/anaconda3/envs/ai-playground/lib/python3.11/site-packages (from langchain) (2.8.2)\n",
      "Requirement already satisfied: requests<3,>=2 in /opt/anaconda3/envs/ai-playground/lib/python3.11/site-packages (from langchain) (2.32.3)\n",
      "Requirement already satisfied: tenacity!=8.4.0,<9.0.0,>=8.1.0 in /opt/anaconda3/envs/ai-playground/lib/python3.11/site-packages (from langchain) (8.5.0)\n",
      "Requirement already satisfied: dataclasses-json<0.7,>=0.5.7 in /opt/anaconda3/envs/ai-playground/lib/python3.11/site-packages (from langchain-community) (0.6.7)\n",
      "Requirement already satisfied: pydantic-settings<3.0.0,>=2.4.0 in /opt/anaconda3/envs/ai-playground/lib/python3.11/site-packages (from langchain-community) (2.5.2)\n",
      "Requirement already satisfied: openai<2.0.0,>=1.40.0 in /opt/anaconda3/envs/ai-playground/lib/python3.11/site-packages (from langchain-openai) (1.45.0)\n",
      "Requirement already satisfied: tiktoken<1,>=0.7 in /opt/anaconda3/envs/ai-playground/lib/python3.11/site-packages (from langchain-openai) (0.7.0)\n",
      "Requirement already satisfied: jsonpatch<2.0,>=1.33 in /opt/anaconda3/envs/ai-playground/lib/python3.11/site-packages (from langchain-core) (1.33)\n",
      "Requirement already satisfied: packaging<25,>=23.2 in /opt/anaconda3/envs/ai-playground/lib/python3.11/site-packages (from langchain-core) (24.1)\n",
      "Requirement already satisfied: typing-extensions>=4.7 in /opt/anaconda3/envs/ai-playground/lib/python3.11/site-packages (from langchain-core) (4.12.2)\n",
      "Requirement already satisfied: huggingface-hub>=0.23.0 in /opt/anaconda3/envs/ai-playground/lib/python3.11/site-packages (from langchain-huggingface) (0.24.5)\n",
      "Requirement already satisfied: sentence-transformers>=2.6.0 in /opt/anaconda3/envs/ai-playground/lib/python3.11/site-packages (from langchain-huggingface) (3.1.1)\n",
      "Requirement already satisfied: tokenizers>=0.19.1 in /opt/anaconda3/envs/ai-playground/lib/python3.11/site-packages (from langchain-huggingface) (0.19.1)\n",
      "Requirement already satisfied: transformers>=4.39.0 in /opt/anaconda3/envs/ai-playground/lib/python3.11/site-packages (from langchain-huggingface) (4.44.1)\n",
      "Requirement already satisfied: aiohappyeyeballs>=2.3.0 in /opt/anaconda3/envs/ai-playground/lib/python3.11/site-packages (from aiohttp<4.0.0,>=3.8.3->langchain) (2.3.4)\n",
      "Requirement already satisfied: aiosignal>=1.1.2 in /opt/anaconda3/envs/ai-playground/lib/python3.11/site-packages (from aiohttp<4.0.0,>=3.8.3->langchain) (1.3.1)\n",
      "Requirement already satisfied: attrs>=17.3.0 in /opt/anaconda3/envs/ai-playground/lib/python3.11/site-packages (from aiohttp<4.0.0,>=3.8.3->langchain) (24.1.0)\n",
      "Requirement already satisfied: frozenlist>=1.1.1 in /opt/anaconda3/envs/ai-playground/lib/python3.11/site-packages (from aiohttp<4.0.0,>=3.8.3->langchain) (1.4.1)\n",
      "Requirement already satisfied: multidict<7.0,>=4.5 in /opt/anaconda3/envs/ai-playground/lib/python3.11/site-packages (from aiohttp<4.0.0,>=3.8.3->langchain) (6.0.5)\n",
      "Requirement already satisfied: yarl<2.0,>=1.0 in /opt/anaconda3/envs/ai-playground/lib/python3.11/site-packages (from aiohttp<4.0.0,>=3.8.3->langchain) (1.9.4)\n",
      "Requirement already satisfied: marshmallow<4.0.0,>=3.18.0 in /opt/anaconda3/envs/ai-playground/lib/python3.11/site-packages (from dataclasses-json<0.7,>=0.5.7->langchain-community) (3.21.3)\n",
      "Requirement already satisfied: typing-inspect<1,>=0.4.0 in /opt/anaconda3/envs/ai-playground/lib/python3.11/site-packages (from dataclasses-json<0.7,>=0.5.7->langchain-community) (0.9.0)\n",
      "Requirement already satisfied: filelock in /opt/anaconda3/envs/ai-playground/lib/python3.11/site-packages (from huggingface-hub>=0.23.0->langchain-huggingface) (3.15.4)\n",
      "Requirement already satisfied: fsspec>=2023.5.0 in /opt/anaconda3/envs/ai-playground/lib/python3.11/site-packages (from huggingface-hub>=0.23.0->langchain-huggingface) (2024.6.1)\n",
      "Requirement already satisfied: tqdm>=4.42.1 in /opt/anaconda3/envs/ai-playground/lib/python3.11/site-packages (from huggingface-hub>=0.23.0->langchain-huggingface) (4.66.5)\n",
      "Requirement already satisfied: jsonpointer>=1.9 in /opt/anaconda3/envs/ai-playground/lib/python3.11/site-packages (from jsonpatch<2.0,>=1.33->langchain-core) (3.0.0)\n",
      "Requirement already satisfied: httpx<1,>=0.23.0 in /opt/anaconda3/envs/ai-playground/lib/python3.11/site-packages (from langsmith<0.2.0,>=0.1.17->langchain) (0.27.2)\n",
      "Requirement already satisfied: orjson<4.0.0,>=3.9.14 in /opt/anaconda3/envs/ai-playground/lib/python3.11/site-packages (from langsmith<0.2.0,>=0.1.17->langchain) (3.10.7)\n",
      "Requirement already satisfied: anyio<5,>=3.5.0 in /opt/anaconda3/envs/ai-playground/lib/python3.11/site-packages (from openai<2.0.0,>=1.40.0->langchain-openai) (3.7.1)\n",
      "Requirement already satisfied: distro<2,>=1.7.0 in /opt/anaconda3/envs/ai-playground/lib/python3.11/site-packages (from openai<2.0.0,>=1.40.0->langchain-openai) (1.9.0)\n",
      "Requirement already satisfied: jiter<1,>=0.4.0 in /opt/anaconda3/envs/ai-playground/lib/python3.11/site-packages (from openai<2.0.0,>=1.40.0->langchain-openai) (0.5.0)\n",
      "Requirement already satisfied: sniffio in /opt/anaconda3/envs/ai-playground/lib/python3.11/site-packages (from openai<2.0.0,>=1.40.0->langchain-openai) (1.3.1)\n",
      "Requirement already satisfied: annotated-types>=0.4.0 in /opt/anaconda3/envs/ai-playground/lib/python3.11/site-packages (from pydantic<3.0.0,>=2.7.4->langchain) (0.7.0)\n",
      "Requirement already satisfied: pydantic-core==2.20.1 in /opt/anaconda3/envs/ai-playground/lib/python3.11/site-packages (from pydantic<3.0.0,>=2.7.4->langchain) (2.20.1)\n",
      "Requirement already satisfied: python-dotenv>=0.21.0 in /opt/anaconda3/envs/ai-playground/lib/python3.11/site-packages (from pydantic-settings<3.0.0,>=2.4.0->langchain-community) (1.0.1)\n",
      "Requirement already satisfied: charset-normalizer<4,>=2 in /opt/anaconda3/envs/ai-playground/lib/python3.11/site-packages (from requests<3,>=2->langchain) (3.3.2)\n",
      "Requirement already satisfied: idna<4,>=2.5 in /opt/anaconda3/envs/ai-playground/lib/python3.11/site-packages (from requests<3,>=2->langchain) (3.7)\n",
      "Requirement already satisfied: urllib3<3,>=1.21.1 in /opt/anaconda3/envs/ai-playground/lib/python3.11/site-packages (from requests<3,>=2->langchain) (2.2.2)\n",
      "Requirement already satisfied: certifi>=2017.4.17 in /opt/anaconda3/envs/ai-playground/lib/python3.11/site-packages (from requests<3,>=2->langchain) (2024.7.4)\n",
      "Requirement already satisfied: torch>=1.11.0 in /opt/anaconda3/envs/ai-playground/lib/python3.11/site-packages (from sentence-transformers>=2.6.0->langchain-huggingface) (2.4.0)\n",
      "Requirement already satisfied: scikit-learn in /opt/anaconda3/envs/ai-playground/lib/python3.11/site-packages (from sentence-transformers>=2.6.0->langchain-huggingface) (1.5.1)\n",
      "Requirement already satisfied: scipy in /opt/anaconda3/envs/ai-playground/lib/python3.11/site-packages (from sentence-transformers>=2.6.0->langchain-huggingface) (1.14.0)\n",
      "Requirement already satisfied: Pillow in /opt/anaconda3/envs/ai-playground/lib/python3.11/site-packages (from sentence-transformers>=2.6.0->langchain-huggingface) (10.4.0)\n",
      "Requirement already satisfied: regex>=2022.1.18 in /opt/anaconda3/envs/ai-playground/lib/python3.11/site-packages (from tiktoken<1,>=0.7->langchain-openai) (2024.7.24)\n",
      "Requirement already satisfied: safetensors>=0.4.1 in /opt/anaconda3/envs/ai-playground/lib/python3.11/site-packages (from transformers>=4.39.0->langchain-huggingface) (0.4.4)\n",
      "Requirement already satisfied: httpcore==1.* in /opt/anaconda3/envs/ai-playground/lib/python3.11/site-packages (from httpx<1,>=0.23.0->langsmith<0.2.0,>=0.1.17->langchain) (1.0.5)\n",
      "Requirement already satisfied: h11<0.15,>=0.13 in /opt/anaconda3/envs/ai-playground/lib/python3.11/site-packages (from httpcore==1.*->httpx<1,>=0.23.0->langsmith<0.2.0,>=0.1.17->langchain) (0.14.0)\n",
      "Requirement already satisfied: sympy in /opt/anaconda3/envs/ai-playground/lib/python3.11/site-packages (from torch>=1.11.0->sentence-transformers>=2.6.0->langchain-huggingface) (1.13.2)\n",
      "Requirement already satisfied: networkx in /opt/anaconda3/envs/ai-playground/lib/python3.11/site-packages (from torch>=1.11.0->sentence-transformers>=2.6.0->langchain-huggingface) (3.3)\n",
      "Requirement already satisfied: jinja2 in /opt/anaconda3/envs/ai-playground/lib/python3.11/site-packages (from torch>=1.11.0->sentence-transformers>=2.6.0->langchain-huggingface) (3.1.4)\n",
      "Requirement already satisfied: mypy-extensions>=0.3.0 in /opt/anaconda3/envs/ai-playground/lib/python3.11/site-packages (from typing-inspect<1,>=0.4.0->dataclasses-json<0.7,>=0.5.7->langchain-community) (1.0.0)\n",
      "Requirement already satisfied: joblib>=1.2.0 in /opt/anaconda3/envs/ai-playground/lib/python3.11/site-packages (from scikit-learn->sentence-transformers>=2.6.0->langchain-huggingface) (1.4.2)\n",
      "Requirement already satisfied: threadpoolctl>=3.1.0 in /opt/anaconda3/envs/ai-playground/lib/python3.11/site-packages (from scikit-learn->sentence-transformers>=2.6.0->langchain-huggingface) (3.5.0)\n",
      "Requirement already satisfied: MarkupSafe>=2.0 in /opt/anaconda3/envs/ai-playground/lib/python3.11/site-packages (from jinja2->torch>=1.11.0->sentence-transformers>=2.6.0->langchain-huggingface) (2.1.5)\n",
      "Requirement already satisfied: mpmath<1.4,>=1.1.0 in /opt/anaconda3/envs/ai-playground/lib/python3.11/site-packages (from sympy->torch>=1.11.0->sentence-transformers>=2.6.0->langchain-huggingface) (1.3.0)\n"
     ]
    }
   ],
   "source": [
    "!pip install langchain langchain-community langchain-openai langchain-core langchain-huggingface"
   ]
  },
  {
   "cell_type": "code",
   "execution_count": 2,
   "metadata": {},
   "outputs": [
    {
     "name": "stdout",
     "output_type": "stream",
     "text": [
      "Requirement already satisfied: pdfplumber in /opt/anaconda3/envs/ai-playground/lib/python3.11/site-packages (0.11.4)\n",
      "Requirement already satisfied: pdfminer.six==20231228 in /opt/anaconda3/envs/ai-playground/lib/python3.11/site-packages (from pdfplumber) (20231228)\n",
      "Requirement already satisfied: Pillow>=9.1 in /opt/anaconda3/envs/ai-playground/lib/python3.11/site-packages (from pdfplumber) (10.4.0)\n",
      "Requirement already satisfied: pypdfium2>=4.18.0 in /opt/anaconda3/envs/ai-playground/lib/python3.11/site-packages (from pdfplumber) (4.30.0)\n",
      "Requirement already satisfied: charset-normalizer>=2.0.0 in /opt/anaconda3/envs/ai-playground/lib/python3.11/site-packages (from pdfminer.six==20231228->pdfplumber) (3.3.2)\n",
      "Requirement already satisfied: cryptography>=36.0.0 in /opt/anaconda3/envs/ai-playground/lib/python3.11/site-packages (from pdfminer.six==20231228->pdfplumber) (43.0.1)\n",
      "Requirement already satisfied: cffi>=1.12 in /opt/anaconda3/envs/ai-playground/lib/python3.11/site-packages (from cryptography>=36.0.0->pdfminer.six==20231228->pdfplumber) (1.17.1)\n",
      "Requirement already satisfied: pycparser in /opt/anaconda3/envs/ai-playground/lib/python3.11/site-packages (from cffi>=1.12->cryptography>=36.0.0->pdfminer.six==20231228->pdfplumber) (2.22)\n"
     ]
    }
   ],
   "source": [
    "!pip install pdfplumber"
   ]
  },
  {
   "cell_type": "code",
   "execution_count": 3,
   "metadata": {},
   "outputs": [
    {
     "name": "stdout",
     "output_type": "stream",
     "text": [
      "Requirement already satisfied: pydantic in /opt/anaconda3/envs/ai-playground/lib/python3.11/site-packages (2.8.2)\n",
      "Requirement already satisfied: annotated-types>=0.4.0 in /opt/anaconda3/envs/ai-playground/lib/python3.11/site-packages (from pydantic) (0.7.0)\n",
      "Requirement already satisfied: pydantic-core==2.20.1 in /opt/anaconda3/envs/ai-playground/lib/python3.11/site-packages (from pydantic) (2.20.1)\n",
      "Requirement already satisfied: typing-extensions>=4.6.1 in /opt/anaconda3/envs/ai-playground/lib/python3.11/site-packages (from pydantic) (4.12.2)\n"
     ]
    }
   ],
   "source": [
    "!pip install pydantic"
   ]
  },
  {
   "cell_type": "code",
   "execution_count": 4,
   "metadata": {},
   "outputs": [
    {
     "name": "stdout",
     "output_type": "stream",
     "text": [
      "2024-09-28 09:27:23 - Loaded .env file\n"
     ]
    }
   ],
   "source": [
    "import os\n",
    "from typing import List\n",
    "from chainlit.types import AskFileResponse\n",
    "\n",
    "import chainlit as cl\n",
    "\n",
    "from langchain_community.document_loaders import PyMuPDFLoader\n",
    "import tiktoken\n",
    "from langchain.text_splitter import RecursiveCharacterTextSplitter\n",
    "from langchain_community.document_loaders import PDFPlumberLoader"
   ]
  },
  {
   "cell_type": "code",
   "execution_count": 5,
   "metadata": {},
   "outputs": [],
   "source": [
    "from langchain_core.prompts import ChatPromptTemplate\n",
    "from langchain_openai import ChatOpenAI\n",
    "# from langchain_community.vectorstores import Qdrant\n",
    "from langchain_qdrant import QdrantVectorStore\n",
    "from qdrant_client import QdrantClient\n",
    "from qdrant_client.http.models import Distance, VectorParams\n",
    "\n",
    "from operator import itemgetter\n",
    "from langchain_core.output_parsers import StrOutputParser\n",
    "from langchain_core.runnables import RunnablePassthrough, RunnableParallel\n"
   ]
  },
  {
   "cell_type": "code",
   "execution_count": 6,
   "metadata": {},
   "outputs": [
    {
     "name": "stderr",
     "output_type": "stream",
     "text": [
      "/var/folders/cw/wd9_8vm53d9f8r6psp18wxyh0000gn/T/ipykernel_9928/1759434403.py:3: TqdmWarning: IProgress not found. Please update jupyter and ipywidgets. See https://ipywidgets.readthedocs.io/en/stable/user_install.html\n",
      "  from tqdm.autonotebook import tqdm, trange\n"
     ]
    }
   ],
   "source": [
    "# huggingface model\n",
    "from langchain_huggingface import HuggingFaceEmbeddings\n",
    "from tqdm.autonotebook import tqdm, trange"
   ]
  },
  {
   "cell_type": "code",
   "execution_count": 7,
   "metadata": {},
   "outputs": [],
   "source": [
    "import os\n",
    "import getpass\n",
    "\n",
    "os.environ[\"OPENAI_API_KEY\"] = getpass.getpass(\"OpenAI API Key:\")"
   ]
  },
  {
   "cell_type": "markdown",
   "metadata": {},
   "source": [
    "### Retrieval documents"
   ]
  },
  {
   "cell_type": "code",
   "execution_count": 8,
   "metadata": {},
   "outputs": [],
   "source": [
    "# load documents 1\n",
    "docs1 =  PyMuPDFLoader(\"data/Blueprint-for-an-AI-Bill-of-Rights.pdf\").load()\n",
    "\n",
    "def tiktoken_len(text):\n",
    "    tokens = tiktoken.encoding_for_model(\"gpt-4o-mini\").encode(\n",
    "        text,\n",
    "    )\n",
    "    return len(tokens)\n",
    "\n",
    "text_splitter = RecursiveCharacterTextSplitter(\n",
    "    chunk_size = 300,\n",
    "    chunk_overlap = 0,\n",
    "    length_function = tiktoken_len,\n",
    ")\n",
    "\n",
    "split_chunks_1 = text_splitter.split_documents(docs1)"
   ]
  },
  {
   "cell_type": "code",
   "execution_count": 9,
   "metadata": {},
   "outputs": [],
   "source": [
    "# load documents 2\n",
    "docs2 = PDFPlumberLoader('data/NIST.AI.600-1.pdf').load()\n",
    "\n",
    "split_chunks_2 = text_splitter.split_documents(docs2)"
   ]
  },
  {
   "cell_type": "code",
   "execution_count": 10,
   "metadata": {},
   "outputs": [
    {
     "data": {
      "text/plain": [
       "(196, 144)"
      ]
     },
     "execution_count": 10,
     "metadata": {},
     "output_type": "execute_result"
    }
   ],
   "source": [
    "len(split_chunks_1), len(split_chunks_2)"
   ]
  },
  {
   "cell_type": "code",
   "execution_count": 11,
   "metadata": {},
   "outputs": [],
   "source": [
    "documents = [*split_chunks_1, *split_chunks_2]"
   ]
  },
  {
   "cell_type": "code",
   "execution_count": 12,
   "metadata": {},
   "outputs": [
    {
     "data": {
      "text/plain": [
       "340"
      ]
     },
     "execution_count": 12,
     "metadata": {},
     "output_type": "execute_result"
    }
   ],
   "source": [
    "len(documents)"
   ]
  },
  {
   "cell_type": "markdown",
   "metadata": {},
   "source": [
    "### embedding model"
   ]
  },
  {
   "cell_type": "code",
   "execution_count": 13,
   "metadata": {},
   "outputs": [
    {
     "name": "stdout",
     "output_type": "stream",
     "text": [
      "2024-09-28 09:28:01 - PyTorch version 2.4.0 available.\n",
      "2024-09-28 09:28:01 - Use pytorch device_name: mps\n",
      "2024-09-28 09:28:01 - Load pretrained SentenceTransformer: Snowflake/snowflake-arctic-embed-m\n",
      "2024-09-28 09:28:03 - 1 prompts are loaded, with the keys: ['query']\n"
     ]
    }
   ],
   "source": [
    "model_id = \"Snowflake/snowflake-arctic-embed-m\"\n",
    "embedding_model = HuggingFaceEmbeddings(model_name=model_id)"
   ]
  },
  {
   "cell_type": "markdown",
   "metadata": {},
   "source": [
    "### Retriever"
   ]
  },
  {
   "cell_type": "code",
   "execution_count": 14,
   "metadata": {},
   "outputs": [],
   "source": [
    "qdrant_client = QdrantClient(\":memory:\")\n",
    "collection_name = \"ai-policy\"\n",
    "\n",
    "qdrant_client.create_collection(\n",
    "    collection_name=collection_name,\n",
    "    vectors_config=VectorParams(size=768, distance=Distance.COSINE),\n",
    ")\n",
    "\n",
    "vector_store = QdrantVectorStore(\n",
    "    client=qdrant_client,\n",
    "    collection_name=collection_name,\n",
    "    embedding=embedding_model,\n",
    ")\n",
    "\n",
    "vector_store.add_documents(documents)\n",
    "\n",
    "retriever = vector_store.as_retriever(search_kwargs={\"k\": 5})"
   ]
  },
  {
   "cell_type": "markdown",
   "metadata": {},
   "source": [
    "### prompt and llm"
   ]
  },
  {
   "cell_type": "code",
   "execution_count": 15,
   "metadata": {},
   "outputs": [],
   "source": [
    "RAG_PROMPT = \"\"\"\\\n",
    "You are an expert in AI ethics and policy. The CEO of a company is asking legal advice from you regarding their investment in AI application. Given a provided context and a question, you must answer the question. If you do not know the answer, you must state that you do not know.\n",
    "\n",
    "Context:\n",
    "{context}\n",
    "\n",
    "Question:\n",
    "{question}\n",
    "\n",
    "Answer:\n",
    "\"\"\"\n",
    "\n",
    "rag_prompt_template = ChatPromptTemplate.from_template(RAG_PROMPT)\n",
    "\n",
    "rag_llm = ChatOpenAI(\n",
    "    model=\"gpt-4o-mini\",\n",
    "    temperature=0\n",
    ")"
   ]
  },
  {
   "cell_type": "code",
   "execution_count": 24,
   "metadata": {},
   "outputs": [],
   "source": [
    "def create_rag_chain(rag_prompt_template, vector_store, llm):\n",
    "    retriever = vector_store.as_retriever(search_kwargs={\"k\": 5})\n",
    "    rag_chain = ({\"context\": itemgetter(\"question\") | retriever, \"question\": itemgetter(\"question\")}\n",
    "                    | RunnablePassthrough.assign(context=itemgetter(\"context\"))\n",
    "                    | {\"response\": rag_prompt_template | llm | StrOutputParser(), \"context\": itemgetter(\"context\")})\n",
    "    return rag_chain"
   ]
  },
  {
   "cell_type": "code",
   "execution_count": 18,
   "metadata": {},
   "outputs": [],
   "source": [
    "from pydantic import BaseModel, InstanceOf\n",
    "class RAGRunnables(BaseModel):\n",
    "    rag_prompt_template: InstanceOf[ChatPromptTemplate]\n",
    "    vector_store: InstanceOf[QdrantVectorStore]\n",
    "    llm: InstanceOf[ChatOpenAI]"
   ]
  },
  {
   "cell_type": "code",
   "execution_count": 19,
   "metadata": {},
   "outputs": [],
   "source": [
    "rag_runnables = RAGRunnables(\n",
    "                        rag_prompt_template = ChatPromptTemplate.from_template(RAG_PROMPT),\n",
    "                        vector_store = vector_store,\n",
    "                        llm = rag_llm\n",
    "                    )"
   ]
  },
  {
   "cell_type": "code",
   "execution_count": 35,
   "metadata": {},
   "outputs": [
    {
     "data": {
      "text/plain": [
       "dict_keys(['rag_prompt_template', 'vector_store', 'llm'])"
      ]
     },
     "execution_count": 35,
     "metadata": {},
     "output_type": "execute_result"
    }
   ],
   "source": [
    "rag_runnables.model_dump().keys()\n"
   ]
  },
  {
   "cell_type": "code",
   "execution_count": 36,
   "metadata": {},
   "outputs": [
    {
     "name": "stdout",
     "output_type": "stream",
     "text": [
      "2024-09-28 09:52:13 - HTTP Request: POST https://api.openai.com/v1/chat/completions \"HTTP/1.1 200 OK\"\n"
     ]
    },
    {
     "data": {
      "text/plain": [
       "{'response': 'I do not know the specific authors of the NIST Trustworthy and Responsible AI document. The provided context does not include that information.',\n",
       " 'context': [Document(metadata={'source': 'data/NIST.AI.600-1.pdf', 'file_path': 'data/NIST.AI.600-1.pdf', 'page': 2, 'total_pages': 64, 'Author': 'National Institute of Standards and Technology', 'Category': 'NIST AI 600-1', 'Comments': '', 'Company': '', 'ContentTypeId': '0x01010068CEA9BE6E0AF749888425167690E526', 'CreationDate': \"D:20240805141702-04'00'\", 'Creator': 'Acrobat PDFMaker 24 for Word', 'Keywords': '', 'MediaServiceImageTags': '', 'ModDate': \"D:20240805143048-04'00'\", 'Producer': 'Adobe PDF Library 24.2.159', 'SourceModified': 'D:20240805160221', 'Subject': '', 'Title': 'Artificial Intelligence Risk Management Framework: Generative Artificial Intelligence Profile', '_id': '3a0f50a7ef614f4cab39c1131319c43d', '_collection_name': 'ai-policy'}, page_content='About AI at NIST: The National Institute of Standards and Technology (NIST) develops measurements,\\ntechnology, tools, and standards to advance reliable, safe, transparent, explainable, privacy-enhanced,\\nand fair artificial intelligence (AI) so that its full commercial and societal benefits can be realized without\\nharm to people or the planet. NIST, which has conducted both fundamental and applied work on AI for\\nmore than a decade, is also helping to fulfill the 2023 Executive Order on Safe, Secure, and Trustworthy\\nAI. NIST established the U.S. AI Safety Institute and the companion AI Safety Institute Consortium to\\ncontinue the efforts set in motion by the E.O. to build the science necessary for safe, secure, and\\ntrustworthy development and use of AI.\\nAcknowledgments: This report was accomplished with the many helpful comments and contributions\\nfrom the community, including the NIST Generative AI Public Working Group, and NIST staff and guest\\nresearchers: Chloe Autio, Jesse Dunietz, Patrick Hall, Shomik Jain, Kamie Roberts, Reva Schwartz, Martin\\nStanley, and Elham Tabassi.\\nNIST Technical Series Policies\\nCopyright, Use, and Licensing Statements\\nNIST Technical Series Publication Identifier Syntax\\nPublication History\\nApproved by the NIST Editorial Review Board on 07-25-2024\\nContact Information\\nai-inquiries@nist.gov\\nNational Institute of Standards and Technology'),\n",
       "  Document(metadata={'source': 'data/NIST.AI.600-1.pdf', 'file_path': 'data/NIST.AI.600-1.pdf', 'page': 4, 'total_pages': 64, 'Author': 'National Institute of Standards and Technology', 'Category': 'NIST AI 600-1', 'Comments': '', 'Company': '', 'ContentTypeId': '0x01010068CEA9BE6E0AF749888425167690E526', 'CreationDate': \"D:20240805141702-04'00'\", 'Creator': 'Acrobat PDFMaker 24 for Word', 'Keywords': '', 'MediaServiceImageTags': '', 'ModDate': \"D:20240805143048-04'00'\", 'Producer': 'Adobe PDF Library 24.2.159', 'SourceModified': 'D:20240805160221', 'Subject': '', 'Title': 'Artificial Intelligence Risk Management Framework: Generative Artificial Intelligence Profile', '_id': '2d39eff6c67244faa25f2e311ce09eeb', '_collection_name': 'ai-policy'}, page_content='resource to the AI RMF, NIST AI 100–1, for generative AI.\\n1'),\n",
       "  Document(metadata={'source': 'data/NIST.AI.600-1.pdf', 'file_path': 'data/NIST.AI.600-1.pdf', 'page': 13, 'total_pages': 64, 'Author': 'National Institute of Standards and Technology', 'Category': 'NIST AI 600-1', 'Comments': '', 'Company': '', 'ContentTypeId': '0x01010068CEA9BE6E0AF749888425167690E526', 'CreationDate': \"D:20240805141702-04'00'\", 'Creator': 'Acrobat PDFMaker 24 for Word', 'Keywords': '', 'MediaServiceImageTags': '', 'ModDate': \"D:20240805143048-04'00'\", 'Producer': 'Adobe PDF Library 24.2.159', 'SourceModified': 'D:20240805160221', 'Subject': '', 'Title': 'Artificial Intelligence Risk Management Framework: Generative Artificial Intelligence Profile', '_id': '436268f70e5945b99a88138526301d4b', '_collection_name': 'ai-policy'}, page_content='and the integrity and (when applicable) the confidentiality of the GAI code, training data, and model\\nweights. To identify and secure potential attack points in AI systems or specific components of the AI\\n12 See also https://doi.org/10.6028/NIST.AI.100-4, to be published.\\n10'),\n",
       "  Document(metadata={'source': 'data/Blueprint-for-an-AI-Bill-of-Rights.pdf', 'file_path': 'data/Blueprint-for-an-AI-Bill-of-Rights.pdf', 'page': 11, 'total_pages': 73, 'format': 'PDF 1.6', 'title': 'Blueprint for an AI Bill of Rights', 'author': '', 'subject': '', 'keywords': '', 'creator': 'Adobe Illustrator 26.3 (Macintosh)', 'producer': 'iLovePDF', 'creationDate': \"D:20220920133035-04'00'\", 'modDate': \"D:20221003104118-04'00'\", 'trapped': '', '_id': 'e5cddd04497943219ded0d526ee71f75', '_collection_name': 'ai-policy'}, page_content='FROM \\nPRINCIPLES \\nTO PRACTICE \\nA TECHINCAL COMPANION TO\\nTHE Blueprint for an \\nAI BILL OF RIGHTS\\n12'),\n",
       "  Document(metadata={'source': 'data/Blueprint-for-an-AI-Bill-of-Rights.pdf', 'file_path': 'data/Blueprint-for-an-AI-Bill-of-Rights.pdf', 'page': 0, 'total_pages': 73, 'format': 'PDF 1.6', 'title': 'Blueprint for an AI Bill of Rights', 'author': '', 'subject': '', 'keywords': '', 'creator': 'Adobe Illustrator 26.3 (Macintosh)', 'producer': 'iLovePDF', 'creationDate': \"D:20220920133035-04'00'\", 'modDate': \"D:20221003104118-04'00'\", 'trapped': '', '_id': '4e746fbcb8be4f45809bc3c30d73c515', '_collection_name': 'ai-policy'}, page_content='BLUEPRINT FOR AN \\nAI BILL OF \\nRIGHTS \\nMAKING AUTOMATED \\nSYSTEMS WORK FOR \\nTHE AMERICAN PEOPLE \\nOCTOBER 2022')]}"
      ]
     },
     "execution_count": 36,
     "metadata": {},
     "output_type": "execute_result"
    }
   ],
   "source": [
    "chain = create_rag_chain(rag_runnables.rag_prompt_template, rag_runnables.vector_store, rag_runnables.llm)\n",
    "chain.invoke({'question': 'Who are the authors of NIST Trustworthy and Responsible AI?'})"
   ]
  },
  {
   "cell_type": "code",
   "execution_count": 40,
   "metadata": {},
   "outputs": [
    {
     "name": "stdout",
     "output_type": "stream",
     "text": [
      "2024-09-28 10:55:43 - HTTP Request: POST https://api.openai.com/v1/chat/completions \"HTTP/1.1 200 OK\"\n"
     ]
    },
    {
     "data": {
      "text/plain": [
       "Document(metadata={'source': 'data/NIST.AI.600-1.pdf', 'file_path': 'data/NIST.AI.600-1.pdf', 'page': 2, 'total_pages': 64, 'Author': 'National Institute of Standards and Technology', 'Category': 'NIST AI 600-1', 'Comments': '', 'Company': '', 'ContentTypeId': '0x01010068CEA9BE6E0AF749888425167690E526', 'CreationDate': \"D:20240805141702-04'00'\", 'Creator': 'Acrobat PDFMaker 24 for Word', 'Keywords': '', 'MediaServiceImageTags': '', 'ModDate': \"D:20240805143048-04'00'\", 'Producer': 'Adobe PDF Library 24.2.159', 'SourceModified': 'D:20240805160221', 'Subject': '', 'Title': 'Artificial Intelligence Risk Management Framework: Generative Artificial Intelligence Profile', '_id': '3a0f50a7ef614f4cab39c1131319c43d', '_collection_name': 'ai-policy'}, page_content='About AI at NIST: The National Institute of Standards and Technology (NIST) develops measurements,\\ntechnology, tools, and standards to advance reliable, safe, transparent, explainable, privacy-enhanced,\\nand fair artificial intelligence (AI) so that its full commercial and societal benefits can be realized without\\nharm to people or the planet. NIST, which has conducted both fundamental and applied work on AI for\\nmore than a decade, is also helping to fulfill the 2023 Executive Order on Safe, Secure, and Trustworthy\\nAI. NIST established the U.S. AI Safety Institute and the companion AI Safety Institute Consortium to\\ncontinue the efforts set in motion by the E.O. to build the science necessary for safe, secure, and\\ntrustworthy development and use of AI.\\nAcknowledgments: This report was accomplished with the many helpful comments and contributions\\nfrom the community, including the NIST Generative AI Public Working Group, and NIST staff and guest\\nresearchers: Chloe Autio, Jesse Dunietz, Patrick Hall, Shomik Jain, Kamie Roberts, Reva Schwartz, Martin\\nStanley, and Elham Tabassi.\\nNIST Technical Series Policies\\nCopyright, Use, and Licensing Statements\\nNIST Technical Series Publication Identifier Syntax\\nPublication History\\nApproved by the NIST Editorial Review Board on 07-25-2024\\nContact Information\\nai-inquiries@nist.gov\\nNational Institute of Standards and Technology')"
      ]
     },
     "execution_count": 40,
     "metadata": {},
     "output_type": "execute_result"
    }
   ],
   "source": [
    "results = chain.invoke({'question': 'Who are the authors of NIST Trustworthy and Responsible AI?'})\n",
    "results['context'][0]"
   ]
  },
  {
   "cell_type": "code",
   "execution_count": 42,
   "metadata": {},
   "outputs": [
    {
     "data": {
      "text/plain": [
       "'Artificial Intelligence Risk Management Framework: Generative Artificial Intelligence Profile'"
      ]
     },
     "execution_count": 42,
     "metadata": {},
     "output_type": "execute_result"
    }
   ],
   "source": [
    "results['context'][0].metadata['Title']"
   ]
  },
  {
   "cell_type": "code",
   "execution_count": 38,
   "metadata": {},
   "outputs": [],
   "source": [
    "async def arun_chain(prompt):\n",
    "    response = await chain.ainvoke({'question': prompt})\n",
    "    return response"
   ]
  },
  {
   "cell_type": "code",
   "execution_count": 39,
   "metadata": {},
   "outputs": [
    {
     "data": {
      "text/plain": [
       "<coroutine object arun_chain at 0x17ba8dfc0>"
      ]
     },
     "execution_count": 39,
     "metadata": {},
     "output_type": "execute_result"
    }
   ],
   "source": [
    "arun_chain('Who are the authors of NIST Trustworthy and Responsible AI?')"
   ]
  },
  {
   "cell_type": "markdown",
   "metadata": {},
   "source": [
    "### chain"
   ]
  },
  {
   "cell_type": "code",
   "execution_count": 16,
   "metadata": {},
   "outputs": [],
   "source": [
    "rag_chain = (\n",
    "    {\"context\": itemgetter(\"question\") | retriever, \"question\": itemgetter(\"question\")}\n",
    "    | RunnablePassthrough.assign(context=itemgetter(\"context\"))\n",
    "    | {\"response\": rag_prompt_template | rag_llm | StrOutputParser(), \"context\": itemgetter(\"context\")}\n",
    ")"
   ]
  },
  {
   "cell_type": "code",
   "execution_count": 17,
   "metadata": {},
   "outputs": [
    {
     "name": "stdout",
     "output_type": "stream",
     "text": [
      "2024-09-28 09:28:24 - HTTP Request: POST https://api.openai.com/v1/chat/completions \"HTTP/1.1 200 OK\"\n"
     ]
    },
    {
     "data": {
      "text/plain": [
       "{'response': 'I do not know the specific authors of the NIST Trustworthy and Responsible AI document. The provided context does not include that information.',\n",
       " 'context': [Document(metadata={'source': 'data/NIST.AI.600-1.pdf', 'file_path': 'data/NIST.AI.600-1.pdf', 'page': 2, 'total_pages': 64, 'Author': 'National Institute of Standards and Technology', 'Category': 'NIST AI 600-1', 'Comments': '', 'Company': '', 'ContentTypeId': '0x01010068CEA9BE6E0AF749888425167690E526', 'CreationDate': \"D:20240805141702-04'00'\", 'Creator': 'Acrobat PDFMaker 24 for Word', 'Keywords': '', 'MediaServiceImageTags': '', 'ModDate': \"D:20240805143048-04'00'\", 'Producer': 'Adobe PDF Library 24.2.159', 'SourceModified': 'D:20240805160221', 'Subject': '', 'Title': 'Artificial Intelligence Risk Management Framework: Generative Artificial Intelligence Profile', '_id': '3a0f50a7ef614f4cab39c1131319c43d', '_collection_name': 'ai-policy'}, page_content='About AI at NIST: The National Institute of Standards and Technology (NIST) develops measurements,\\ntechnology, tools, and standards to advance reliable, safe, transparent, explainable, privacy-enhanced,\\nand fair artificial intelligence (AI) so that its full commercial and societal benefits can be realized without\\nharm to people or the planet. NIST, which has conducted both fundamental and applied work on AI for\\nmore than a decade, is also helping to fulfill the 2023 Executive Order on Safe, Secure, and Trustworthy\\nAI. NIST established the U.S. AI Safety Institute and the companion AI Safety Institute Consortium to\\ncontinue the efforts set in motion by the E.O. to build the science necessary for safe, secure, and\\ntrustworthy development and use of AI.\\nAcknowledgments: This report was accomplished with the many helpful comments and contributions\\nfrom the community, including the NIST Generative AI Public Working Group, and NIST staff and guest\\nresearchers: Chloe Autio, Jesse Dunietz, Patrick Hall, Shomik Jain, Kamie Roberts, Reva Schwartz, Martin\\nStanley, and Elham Tabassi.\\nNIST Technical Series Policies\\nCopyright, Use, and Licensing Statements\\nNIST Technical Series Publication Identifier Syntax\\nPublication History\\nApproved by the NIST Editorial Review Board on 07-25-2024\\nContact Information\\nai-inquiries@nist.gov\\nNational Institute of Standards and Technology'),\n",
       "  Document(metadata={'source': 'data/NIST.AI.600-1.pdf', 'file_path': 'data/NIST.AI.600-1.pdf', 'page': 4, 'total_pages': 64, 'Author': 'National Institute of Standards and Technology', 'Category': 'NIST AI 600-1', 'Comments': '', 'Company': '', 'ContentTypeId': '0x01010068CEA9BE6E0AF749888425167690E526', 'CreationDate': \"D:20240805141702-04'00'\", 'Creator': 'Acrobat PDFMaker 24 for Word', 'Keywords': '', 'MediaServiceImageTags': '', 'ModDate': \"D:20240805143048-04'00'\", 'Producer': 'Adobe PDF Library 24.2.159', 'SourceModified': 'D:20240805160221', 'Subject': '', 'Title': 'Artificial Intelligence Risk Management Framework: Generative Artificial Intelligence Profile', '_id': '2d39eff6c67244faa25f2e311ce09eeb', '_collection_name': 'ai-policy'}, page_content='resource to the AI RMF, NIST AI 100–1, for generative AI.\\n1'),\n",
       "  Document(metadata={'source': 'data/NIST.AI.600-1.pdf', 'file_path': 'data/NIST.AI.600-1.pdf', 'page': 13, 'total_pages': 64, 'Author': 'National Institute of Standards and Technology', 'Category': 'NIST AI 600-1', 'Comments': '', 'Company': '', 'ContentTypeId': '0x01010068CEA9BE6E0AF749888425167690E526', 'CreationDate': \"D:20240805141702-04'00'\", 'Creator': 'Acrobat PDFMaker 24 for Word', 'Keywords': '', 'MediaServiceImageTags': '', 'ModDate': \"D:20240805143048-04'00'\", 'Producer': 'Adobe PDF Library 24.2.159', 'SourceModified': 'D:20240805160221', 'Subject': '', 'Title': 'Artificial Intelligence Risk Management Framework: Generative Artificial Intelligence Profile', '_id': '436268f70e5945b99a88138526301d4b', '_collection_name': 'ai-policy'}, page_content='and the integrity and (when applicable) the confidentiality of the GAI code, training data, and model\\nweights. To identify and secure potential attack points in AI systems or specific components of the AI\\n12 See also https://doi.org/10.6028/NIST.AI.100-4, to be published.\\n10'),\n",
       "  Document(metadata={'source': 'data/Blueprint-for-an-AI-Bill-of-Rights.pdf', 'file_path': 'data/Blueprint-for-an-AI-Bill-of-Rights.pdf', 'page': 11, 'total_pages': 73, 'format': 'PDF 1.6', 'title': 'Blueprint for an AI Bill of Rights', 'author': '', 'subject': '', 'keywords': '', 'creator': 'Adobe Illustrator 26.3 (Macintosh)', 'producer': 'iLovePDF', 'creationDate': \"D:20220920133035-04'00'\", 'modDate': \"D:20221003104118-04'00'\", 'trapped': '', '_id': 'e5cddd04497943219ded0d526ee71f75', '_collection_name': 'ai-policy'}, page_content='FROM \\nPRINCIPLES \\nTO PRACTICE \\nA TECHINCAL COMPANION TO\\nTHE Blueprint for an \\nAI BILL OF RIGHTS\\n12'),\n",
       "  Document(metadata={'source': 'data/Blueprint-for-an-AI-Bill-of-Rights.pdf', 'file_path': 'data/Blueprint-for-an-AI-Bill-of-Rights.pdf', 'page': 0, 'total_pages': 73, 'format': 'PDF 1.6', 'title': 'Blueprint for an AI Bill of Rights', 'author': '', 'subject': '', 'keywords': '', 'creator': 'Adobe Illustrator 26.3 (Macintosh)', 'producer': 'iLovePDF', 'creationDate': \"D:20220920133035-04'00'\", 'modDate': \"D:20221003104118-04'00'\", 'trapped': '', '_id': '4e746fbcb8be4f45809bc3c30d73c515', '_collection_name': 'ai-policy'}, page_content='BLUEPRINT FOR AN \\nAI BILL OF \\nRIGHTS \\nMAKING AUTOMATED \\nSYSTEMS WORK FOR \\nTHE AMERICAN PEOPLE \\nOCTOBER 2022')]}"
      ]
     },
     "execution_count": 17,
     "metadata": {},
     "output_type": "execute_result"
    }
   ],
   "source": [
    "rag_chain.invoke({'question': 'Who are the authors of NIST Trustworthy and Responsible AI?'})"
   ]
  },
  {
   "cell_type": "code",
   "execution_count": 25,
   "metadata": {},
   "outputs": [],
   "source": [
    "from pydantic import BaseModel"
   ]
  },
  {
   "cell_type": "code",
   "execution_count": 32,
   "metadata": {},
   "outputs": [],
   "source": [
    "from langchain_community.document_loaders.base import BaseLoader\n",
    "from langchain_text_splitters.base import TextSplitter"
   ]
  },
  {
   "cell_type": "code",
   "execution_count": null,
   "metadata": {},
   "outputs": [],
   "source": []
  }
 ],
 "metadata": {
  "kernelspec": {
   "display_name": "ai-playground",
   "language": "python",
   "name": "python3"
  },
  "language_info": {
   "codemirror_mode": {
    "name": "ipython",
    "version": 3
   },
   "file_extension": ".py",
   "mimetype": "text/x-python",
   "name": "python",
   "nbconvert_exporter": "python",
   "pygments_lexer": "ipython3",
   "version": "3.11.9"
  }
 },
 "nbformat": 4,
 "nbformat_minor": 2
}
